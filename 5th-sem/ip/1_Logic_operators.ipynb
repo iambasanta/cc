{
  "nbformat": 4,
  "nbformat_minor": 0,
  "metadata": {
    "colab": {
      "name": "1_Logic_operators.ipynb",
      "provenance": [],
      "mount_file_id": "1GWwb7tZzrXswp0lDkIVwLLVHOyiHFP20",
      "authorship_tag": "ABX9TyNusxg/yutK0RcyrxXWfzvt",
      "include_colab_link": true
    },
    "kernelspec": {
      "name": "python3",
      "display_name": "Python 3"
    }
  },
  "cells": [
    {
      "cell_type": "markdown",
      "metadata": {
        "id": "view-in-github",
        "colab_type": "text"
      },
      "source": [
        "<a href=\"https://colab.research.google.com/github/gunjanak/Digital_Image_processing/blob/main/1_Logic_operators.ipynb\" target=\"_parent\"><img src=\"https://colab.research.google.com/assets/colab-badge.svg\" alt=\"Open In Colab\"/></a>"
      ]
    },
    {
      "cell_type": "markdown",
      "metadata": {
        "id": "qnLqr1QaBUGo"
      },
      "source": [
        "***Logic Operators***"
      ]
    },
    {
      "cell_type": "code",
      "metadata": {
        "id": "pVtKJA8vBAd8"
      },
      "source": [
        "#import libraries\n",
        "import numpy as np\n",
        "from PIL import Image\n",
        "import matplotlib.pyplot as plt"
      ],
      "execution_count": 1,
      "outputs": []
    },
    {
      "cell_type": "code",
      "metadata": {
        "colab": {
          "base_uri": "https://localhost:8080/",
          "height": 384
        },
        "id": "PvLEWexZBcHA",
        "outputId": "d18f40ad-9c56-4d7b-80e6-7e8f8b153eeb"
      },
      "source": [
        "#read the image\n",
        "# reading image and converting to gray scale\n",
        "img = Image.open('/content/drive/MyDrive/Colab Notebooks/image_processing/images/aa.png').convert('L')\n",
        "# display image\n",
        "img"
      ],
      "execution_count": 28,
      "outputs": [
        {
          "output_type": "execute_result",
          "data": {
            "image/png": "[encoded data removed]",
            "text/plain": [
              "<PIL.Image.Image image mode=L size=982x411 at 0x7FF472681358>"
            ]
          },
          "metadata": {
            "tags": []
          },
          "execution_count": 28
        }
      ]
    },
    {
      "cell_type": "code",
      "metadata": {
        "id": "EIvjuVxGBhQM"
      },
      "source": [
        "img = img.resize((400,400), Image.ANTIALIAS)\n",
        "# convert to numpy array \n",
        "numpy_image = np.array(img)"
      ],
      "execution_count": 29,
      "outputs": []
    },
    {
      "cell_type": "code",
      "metadata": {
        "colab": {
          "base_uri": "https://localhost:8080/",
          "height": 468
        },
        "id": "7QXFPqGiLoKX",
        "outputId": "c3f26364-708e-4f95-903b-505e3b02f394"
      },
      "source": [
        "#read the image\n",
        "# reading image and converting to gray scale\n",
        "img2 = Image.open('/content/drive/MyDrive/Colab Notebooks/image_processing/images/bb.png').convert('L')\n",
        "# display image\n",
        "img2"
      ],
      "execution_count": 32,
      "outputs": [
        {
          "output_type": "execute_result",
          "data": {
            "image/png": "[encoded data removed]",
            "text/plain": [
              "<PIL.Image.Image image mode=L size=797x451 at 0x7FF472653940>"
            ]
          },
          "metadata": {
            "tags": []
          },
          "execution_count": 32
        }
      ]
    },
    {
      "cell_type": "code",
      "metadata": {
        "id": "BQ6UPSvDLsgY"
      },
      "source": [
        "img2 = img2.resize((400,400), Image.ANTIALIAS)\n",
        "# convert to numpy array \n",
        "numpy_image2 = np.array(img2)"
      ],
      "execution_count": 33,
      "outputs": []
    },
    {
      "cell_type": "code",
      "metadata": {
        "colab": {
          "base_uri": "https://localhost:8080/",
          "height": 417
        },
        "id": "z18gMVA1Mtpp",
        "outputId": "05398417-eda2-4622-e6fd-9e3835caa724"
      },
      "source": [
        "# Logic AND\n",
        "aa = numpy_image*numpy_image2\n",
        "aa = Image.fromarray(aa)  \n",
        "aa = aa.convert(\"L\")\n",
        "aa"
      ],
      "execution_count": 38,
      "outputs": [
        {
          "output_type": "execute_result",
          "data": {
            "image/png": "[encoded data removed]",
            "text/plain": [
              "<PIL.Image.Image image mode=L size=400x400 at 0x7FF472681748>"
            ]
          },
          "metadata": {
            "tags": []
          },
          "execution_count": 38
        }
      ]
    },
    {
      "cell_type": "code",
      "metadata": {
        "colab": {
          "base_uri": "https://localhost:8080/",
          "height": 417
        },
        "id": "ACgYbwgKPoO2",
        "outputId": "611c484b-cafb-4497-c0a8-f3fc7d476968"
      },
      "source": [
        "# Logic OR\n",
        "aa = numpy_image+numpy_image2\n",
        "aa = Image.fromarray(aa)  \n",
        "aa = aa.convert(\"L\")\n",
        "aa"
      ],
      "execution_count": 39,
      "outputs": [
        {
          "output_type": "execute_result",
          "data": {
            "image/png": "[encoded data removed]",
            "text/plain": [
              "<PIL.Image.Image image mode=L size=400x400 at 0x7FF4725EA1D0>"
            ]
          },
          "metadata": {
            "tags": []
          },
          "execution_count": 39
        }
      ]
    },
    {
      "cell_type": "code",
      "metadata": {
        "colab": {
          "base_uri": "https://localhost:8080/",
          "height": 417
        },
        "id": "bh-rm7DjPsV8",
        "outputId": "ef1548ae-c708-4cc6-8bd9-a8ade85d02fd"
      },
      "source": [
        "#XOR\n",
        "aa = np.logical_xor(numpy_image, numpy_image2)\n",
        "aa = Image.fromarray(aa)  \n",
        "aa = aa.convert(\"L\")\n",
        "aa"
      ],
      "execution_count": 40,
      "outputs": [
        {
          "output_type": "execute_result",
          "data": {
            "image/png": "[encoded data removed]",
            "text/plain": [
              "<PIL.Image.Image image mode=L size=400x400 at 0x7FF4725EAE48>"
            ]
          },
          "metadata": {
            "tags": []
          },
          "execution_count": 40
        }
      ]
    },
    {
      "cell_type": "code",
      "metadata": {
        "id": "n31XTDSrQT8B"
      },
      "source": [
        ""
      ],
      "execution_count": null,
      "outputs": []
    }
  ]
}